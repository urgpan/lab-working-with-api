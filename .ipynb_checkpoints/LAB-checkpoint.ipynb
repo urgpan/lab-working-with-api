{
 "cells": [
  {
   "cell_type": "code",
   "execution_count": 150,
   "metadata": {},
   "outputs": [],
   "source": [
    "import pandas as pd\n",
    "import requests\n",
    "import json\n",
    "from datetime import date\n",
    "from credentials import *"
   ]
  },
  {
   "cell_type": "code",
   "execution_count": 119,
   "metadata": {},
   "outputs": [],
   "source": [
    "def get_dates(start, end):\n",
    "    return pd.Series(pd.date_range(start, end,freq='d').format()) # Format makes the output ans str variable."
   ]
  },
  {
   "cell_type": "code",
   "execution_count": 60,
   "metadata": {},
   "outputs": [],
   "source": [
    "def city_code(city_name):\n",
    "    url = \"https://skyscanner-skyscanner-flight-search-v1.p.rapidapi.com/apiservices/autosuggest/v1.0/US/USD/en-US/\"\n",
    "\n",
    "    params = {\"query\": city_name}\n",
    "\n",
    "    headers = {'x-rapidapi-host': \"skyscanner-skyscanner-flight-search-v1.p.rapidapi.com\",\n",
    "                      'x-rapidapi-key': x_rapidapi_key}\n",
    "\n",
    "    response = requests.get(url, headers = headers, params = params)\n",
    "\n",
    "    return response.json()[\"Places\"][0][\"PlaceId\"]"
   ]
  },
  {
   "cell_type": "code",
   "execution_count": 107,
   "metadata": {},
   "outputs": [],
   "source": [
    "def flight_prices(departure, arrival, date_start, date_end):\n",
    "\n",
    "    departure_code = city_code(departure)\n",
    "    arrival_code = city_code(arrival)\n",
    "    url = f\"https://skyscanner-skyscanner-flight-search-v1.p.rapidapi.com/apiservices/browsequotes/v1.0/US/USD/en-US/{departure_code}/{arrival_code}/{date_start}/{date_end}\"\n",
    "\n",
    "    params = {\"inboundpartialdate\":{date_start}, \"outboundpartialdate\":{date_end}}\n",
    "\n",
    "    #headers = {\n",
    "    #'x-rapidapi-host': \"skyscanner-skyscanner-flight-search-v1.p.rapidapi.com\",\n",
    "    #'x-rapidapi-key': \"<introduce your RapidAPI key here>\"}\n",
    "\n",
    "    headers = {\n",
    "    'x-rapidapi-host': \"skyscanner-skyscanner-flight-search-v1.p.rapidapi.com\",\n",
    "    'x-rapidapi-key': x_rapidapi_key}\n",
    "\n",
    "    response = requests.get(url, headers=headers, params=params)\n",
    "\n",
    "    return response.json()\n",
    "\n",
    "json_archive = flight_prices('Paris', 'London','2021-02-25','2021-02-26')"
   ]
  },
  {
   "cell_type": "code",
   "execution_count": 113,
   "metadata": {},
   "outputs": [],
   "source": [
    "def flight_prices_start(departure, arrival, date_start):\n",
    "\n",
    "    departure_code = city_code(departure)\n",
    "    arrival_code = city_code(arrival)\n",
    "    url = f\"https://skyscanner-skyscanner-flight-search-v1.p.rapidapi.com/apiservices/browsequotes/v1.0/US/USD/en-US/{departure_code}/{arrival_code}/{date_start}\"\n",
    "\n",
    "    params = {\"inboundpartialdate\":{date_start}}\n",
    "\n",
    "    #headers = {\n",
    "    #'x-rapidapi-host': \"skyscanner-skyscanner-flight-search-v1.p.rapidapi.com\",\n",
    "    #'x-rapidapi-key': \"<introduce your RapidAPI key here>\"}\n",
    "\n",
    "    headers = {\n",
    "    'x-rapidapi-host': \"skyscanner-skyscanner-flight-search-v1.p.rapidapi.com\",\n",
    "    'x-rapidapi-key': x_rapidapi_key}\n",
    "\n",
    "    response = requests.get(url, headers=headers, params=params)\n",
    "\n",
    "    return response.json()"
   ]
  },
  {
   "cell_type": "code",
   "execution_count": 122,
   "metadata": {},
   "outputs": [],
   "source": [
    "dates = get_dates('2021-02-25','2021-02-28')"
   ]
  },
  {
   "cell_type": "code",
   "execution_count": 123,
   "metadata": {},
   "outputs": [],
   "source": [
    "json_archives = {}\n",
    "for day in dates:\n",
    "    json_ = flight_prices_start('Paris', 'London', day)\n",
    "    json_archives[day] = json_      "
   ]
  },
  {
   "cell_type": "code",
   "execution_count": 157,
   "metadata": {},
   "outputs": [
    {
     "name": "stdout",
     "output_type": "stream",
     "text": [
      "157$  --- 2021-02-25T00:00:00\n",
      "133$  --- 2021-02-26T00:00:00\n",
      "153$  --- 2021-02-27T00:00:00\n",
      "98$  --- 2021-02-28T00:00:00\n"
     ]
    }
   ],
   "source": [
    "for day in dates:\n",
    "    my_json = json_archives[day]\n",
    "    flights = my_json['Quotes']\n",
    "    #print(flights)\n",
    "    \n",
    "    flight_price = []\n",
    "    for flight in flights:\n",
    "        flight_price.append(flight['MinPrice'])\n",
    "        #if(flight['MinPrice'] )\n",
    "        \n",
    "        \n",
    "    min_day_price = min(flight_price)\n",
    "    print(str(min_day_price) + \"$  --- \" + str(flight['OutboundLeg']['DepartureDate']) + \" --- \" + )"
   ]
  },
  {
   "cell_type": "code",
   "execution_count": 158,
   "metadata": {},
   "outputs": [
    {
     "ename": "NameError",
     "evalue": "name 'x' is not defined",
     "output_type": "error",
     "traceback": [
      "\u001b[1;31m---------------------------------------------------------------------------\u001b[0m",
      "\u001b[1;31mNameError\u001b[0m                                 Traceback (most recent call last)",
      "\u001b[1;32m<ipython-input-158-71f167621bca>\u001b[0m in \u001b[0;36m<module>\u001b[1;34m\u001b[0m\n\u001b[1;32m----> 1\u001b[1;33m \u001b[1;32mfor\u001b[0m \u001b[0mkey\u001b[0m \u001b[1;32min\u001b[0m \u001b[0mx\u001b[0m\u001b[1;33m.\u001b[0m\u001b[0mkeys\u001b[0m\u001b[1;33m(\u001b[0m\u001b[1;33m)\u001b[0m\u001b[1;33m:\u001b[0m\u001b[1;33m\u001b[0m\u001b[1;33m\u001b[0m\u001b[0m\n\u001b[0m\u001b[0;32m      2\u001b[0m     \u001b[0mall_info\u001b[0m\u001b[1;33m[\u001b[0m\u001b[1;34m'date'\u001b[0m\u001b[1;33m]\u001b[0m \u001b[1;33m=\u001b[0m \u001b[0mkey\u001b[0m\u001b[1;33m\u001b[0m\u001b[1;33m\u001b[0m\u001b[0m\n\u001b[0;32m      3\u001b[0m     \u001b[0mall_info\u001b[0m\u001b[1;33m[\u001b[0m\u001b[1;34m'price'\u001b[0m\u001b[1;33m]\u001b[0m \u001b[1;33m=\u001b[0m \u001b[0mx\u001b[0m\u001b[1;33m[\u001b[0m\u001b[0mkey\u001b[0m\u001b[1;33m]\u001b[0m\u001b[1;33m[\u001b[0m\u001b[1;34m'Quotes'\u001b[0m\u001b[1;33m]\u001b[0m\u001b[1;33m[\u001b[0m\u001b[1;36m0\u001b[0m\u001b[1;33m]\u001b[0m\u001b[1;33m[\u001b[0m\u001b[1;34m'MinPrice'\u001b[0m\u001b[1;33m]\u001b[0m\u001b[1;33m\u001b[0m\u001b[1;33m\u001b[0m\u001b[0m\n\u001b[0;32m      4\u001b[0m     \u001b[0mall_info\u001b[0m\u001b[1;33m[\u001b[0m\u001b[1;34m'flight_company'\u001b[0m\u001b[1;33m]\u001b[0m \u001b[1;33m=\u001b[0m \u001b[0mx\u001b[0m\u001b[1;33m[\u001b[0m\u001b[0mkey\u001b[0m\u001b[1;33m]\u001b[0m\u001b[1;33m[\u001b[0m\u001b[1;34m'Carriers'\u001b[0m\u001b[1;33m]\u001b[0m\u001b[1;33m[\u001b[0m\u001b[1;36m0\u001b[0m\u001b[1;33m]\u001b[0m\u001b[1;33m[\u001b[0m\u001b[1;34m'Name'\u001b[0m\u001b[1;33m]\u001b[0m\u001b[1;33m\u001b[0m\u001b[1;33m\u001b[0m\u001b[0m\n",
      "\u001b[1;31mNameError\u001b[0m: name 'x' is not defined"
     ]
    }
   ],
   "source": [
    "for key in x.keys():\n",
    "    all_info['date'] = key\n",
    "    all_info['price'] = x[key]['Quotes'][0]['MinPrice']\n",
    "    all_info['flight_company'] = x[key]['Carriers'][0]['Name']\n"
   ]
  },
  {
   "cell_type": "code",
   "execution_count": 131,
   "metadata": {},
   "outputs": [
    {
     "data": {
      "text/plain": [
       "{'Quotes': [{'QuoteId': 1,\n",
       "   'MinPrice': 157,\n",
       "   'Direct': False,\n",
       "   'OutboundLeg': {'CarrierIds': [1218],\n",
       "    'OriginId': 73097,\n",
       "    'DestinationId': 65698,\n",
       "    'DepartureDate': '2021-02-25T00:00:00'},\n",
       "   'QuoteDateTime': '2021-02-23T15:59:00'},\n",
       "  {'QuoteId': 2,\n",
       "   'MinPrice': 241,\n",
       "   'Direct': True,\n",
       "   'OutboundLeg': {'CarrierIds': [838],\n",
       "    'OriginId': 44759,\n",
       "    'DestinationId': 65698,\n",
       "    'DepartureDate': '2021-02-25T00:00:00'},\n",
       "   'QuoteDateTime': '2021-02-23T15:59:00'}],\n",
       " 'Carriers': [{'CarrierId': 838, 'Name': 'Air France'},\n",
       "  {'CarrierId': 1218, 'Name': 'Iberia'}],\n",
       " 'Places': [{'Name': 'Paris Charles de Gaulle',\n",
       "   'Type': 'Station',\n",
       "   'PlaceId': 44759,\n",
       "   'IataCode': 'CDG',\n",
       "   'SkyscannerCode': 'CDG',\n",
       "   'CityName': 'Paris',\n",
       "   'CityId': 'PARI',\n",
       "   'CountryName': 'France'},\n",
       "  {'Name': 'London Heathrow',\n",
       "   'Type': 'Station',\n",
       "   'PlaceId': 65698,\n",
       "   'IataCode': 'LHR',\n",
       "   'SkyscannerCode': 'LHR',\n",
       "   'CityName': 'London',\n",
       "   'CityId': 'LOND',\n",
       "   'CountryName': 'United Kingdom'},\n",
       "  {'Name': 'Paris Orly',\n",
       "   'Type': 'Station',\n",
       "   'PlaceId': 73097,\n",
       "   'IataCode': 'ORY',\n",
       "   'SkyscannerCode': 'ORY',\n",
       "   'CityName': 'Paris',\n",
       "   'CityId': 'PARI',\n",
       "   'CountryName': 'France'},\n",
       "  {'Name': 'Paris',\n",
       "   'Type': 'City',\n",
       "   'PlaceId': 3579769,\n",
       "   'SkyscannerCode': 'PARI',\n",
       "   'CityId': 'PARI',\n",
       "   'CountryName': 'France'}],\n",
       " 'Currencies': [{'Code': 'USD',\n",
       "   'Symbol': '$',\n",
       "   'ThousandsSeparator': ',',\n",
       "   'DecimalSeparator': '.',\n",
       "   'SymbolOnLeft': True,\n",
       "   'SpaceBetweenAmountAndSymbol': False,\n",
       "   'RoundingCoefficient': 0,\n",
       "   'DecimalDigits': 2}]}"
      ]
     },
     "execution_count": 131,
     "metadata": {},
     "output_type": "execute_result"
    }
   ],
   "source": [
    "json_archives[dates[0]]\n",
    "\n"
   ]
  },
  {
   "cell_type": "code",
   "execution_count": 114,
   "metadata": {},
   "outputs": [],
   "source": [
    "quotes = pd.json_normalize(json_archive['Quotes'])\n",
    "carriers = pd.json_normalize(json_archive['Carriers'])\n",
    "places = pd.json_normalize(json_archive['Places'])\n",
    "currencies = pd.json_normalize(json_archive['Currencies'])"
   ]
  },
  {
   "cell_type": "code",
   "execution_count": 115,
   "metadata": {},
   "outputs": [
    {
     "data": {
      "text/html": [
       "<div>\n",
       "<style scoped>\n",
       "    .dataframe tbody tr th:only-of-type {\n",
       "        vertical-align: middle;\n",
       "    }\n",
       "\n",
       "    .dataframe tbody tr th {\n",
       "        vertical-align: top;\n",
       "    }\n",
       "\n",
       "    .dataframe thead th {\n",
       "        text-align: right;\n",
       "    }\n",
       "</style>\n",
       "<table border=\"1\" class=\"dataframe\">\n",
       "  <thead>\n",
       "    <tr style=\"text-align: right;\">\n",
       "      <th></th>\n",
       "      <th>QuoteId</th>\n",
       "      <th>MinPrice</th>\n",
       "      <th>Direct</th>\n",
       "      <th>QuoteDateTime</th>\n",
       "      <th>OutboundLeg.CarrierIds</th>\n",
       "      <th>OutboundLeg.OriginId</th>\n",
       "      <th>OutboundLeg.DestinationId</th>\n",
       "      <th>OutboundLeg.DepartureDate</th>\n",
       "    </tr>\n",
       "  </thead>\n",
       "  <tbody>\n",
       "    <tr>\n",
       "      <th>0</th>\n",
       "      <td>1</td>\n",
       "      <td>157</td>\n",
       "      <td>False</td>\n",
       "      <td>2021-02-23T15:59:00</td>\n",
       "      <td>[1218]</td>\n",
       "      <td>73097</td>\n",
       "      <td>65698</td>\n",
       "      <td>2021-02-25T00:00:00</td>\n",
       "    </tr>\n",
       "    <tr>\n",
       "      <th>1</th>\n",
       "      <td>2</td>\n",
       "      <td>241</td>\n",
       "      <td>True</td>\n",
       "      <td>2021-02-23T15:59:00</td>\n",
       "      <td>[838]</td>\n",
       "      <td>44759</td>\n",
       "      <td>65698</td>\n",
       "      <td>2021-02-25T00:00:00</td>\n",
       "    </tr>\n",
       "  </tbody>\n",
       "</table>\n",
       "</div>"
      ],
      "text/plain": [
       "   QuoteId  MinPrice  Direct        QuoteDateTime OutboundLeg.CarrierIds  \\\n",
       "0        1       157   False  2021-02-23T15:59:00                 [1218]   \n",
       "1        2       241    True  2021-02-23T15:59:00                  [838]   \n",
       "\n",
       "   OutboundLeg.OriginId  OutboundLeg.DestinationId OutboundLeg.DepartureDate  \n",
       "0                 73097                      65698       2021-02-25T00:00:00  \n",
       "1                 44759                      65698       2021-02-25T00:00:00  "
      ]
     },
     "execution_count": 115,
     "metadata": {},
     "output_type": "execute_result"
    }
   ],
   "source": [
    "quotes.head()"
   ]
  },
  {
   "cell_type": "code",
   "execution_count": 116,
   "metadata": {},
   "outputs": [
    {
     "data": {
      "text/html": [
       "<div>\n",
       "<style scoped>\n",
       "    .dataframe tbody tr th:only-of-type {\n",
       "        vertical-align: middle;\n",
       "    }\n",
       "\n",
       "    .dataframe tbody tr th {\n",
       "        vertical-align: top;\n",
       "    }\n",
       "\n",
       "    .dataframe thead th {\n",
       "        text-align: right;\n",
       "    }\n",
       "</style>\n",
       "<table border=\"1\" class=\"dataframe\">\n",
       "  <thead>\n",
       "    <tr style=\"text-align: right;\">\n",
       "      <th></th>\n",
       "      <th>CarrierId</th>\n",
       "      <th>Name</th>\n",
       "    </tr>\n",
       "  </thead>\n",
       "  <tbody>\n",
       "    <tr>\n",
       "      <th>0</th>\n",
       "      <td>838</td>\n",
       "      <td>Air France</td>\n",
       "    </tr>\n",
       "    <tr>\n",
       "      <th>1</th>\n",
       "      <td>1218</td>\n",
       "      <td>Iberia</td>\n",
       "    </tr>\n",
       "  </tbody>\n",
       "</table>\n",
       "</div>"
      ],
      "text/plain": [
       "   CarrierId        Name\n",
       "0        838  Air France\n",
       "1       1218      Iberia"
      ]
     },
     "execution_count": 116,
     "metadata": {},
     "output_type": "execute_result"
    }
   ],
   "source": [
    "carriers.head()"
   ]
  },
  {
   "cell_type": "code",
   "execution_count": 117,
   "metadata": {},
   "outputs": [
    {
     "data": {
      "text/html": [
       "<div>\n",
       "<style scoped>\n",
       "    .dataframe tbody tr th:only-of-type {\n",
       "        vertical-align: middle;\n",
       "    }\n",
       "\n",
       "    .dataframe tbody tr th {\n",
       "        vertical-align: top;\n",
       "    }\n",
       "\n",
       "    .dataframe thead th {\n",
       "        text-align: right;\n",
       "    }\n",
       "</style>\n",
       "<table border=\"1\" class=\"dataframe\">\n",
       "  <thead>\n",
       "    <tr style=\"text-align: right;\">\n",
       "      <th></th>\n",
       "      <th>Name</th>\n",
       "      <th>Type</th>\n",
       "      <th>PlaceId</th>\n",
       "      <th>IataCode</th>\n",
       "      <th>SkyscannerCode</th>\n",
       "      <th>CityName</th>\n",
       "      <th>CityId</th>\n",
       "      <th>CountryName</th>\n",
       "    </tr>\n",
       "  </thead>\n",
       "  <tbody>\n",
       "    <tr>\n",
       "      <th>0</th>\n",
       "      <td>Paris Charles de Gaulle</td>\n",
       "      <td>Station</td>\n",
       "      <td>44759</td>\n",
       "      <td>CDG</td>\n",
       "      <td>CDG</td>\n",
       "      <td>Paris</td>\n",
       "      <td>PARI</td>\n",
       "      <td>France</td>\n",
       "    </tr>\n",
       "    <tr>\n",
       "      <th>1</th>\n",
       "      <td>London Heathrow</td>\n",
       "      <td>Station</td>\n",
       "      <td>65698</td>\n",
       "      <td>LHR</td>\n",
       "      <td>LHR</td>\n",
       "      <td>London</td>\n",
       "      <td>LOND</td>\n",
       "      <td>United Kingdom</td>\n",
       "    </tr>\n",
       "    <tr>\n",
       "      <th>2</th>\n",
       "      <td>Paris Orly</td>\n",
       "      <td>Station</td>\n",
       "      <td>73097</td>\n",
       "      <td>ORY</td>\n",
       "      <td>ORY</td>\n",
       "      <td>Paris</td>\n",
       "      <td>PARI</td>\n",
       "      <td>France</td>\n",
       "    </tr>\n",
       "    <tr>\n",
       "      <th>3</th>\n",
       "      <td>Paris</td>\n",
       "      <td>City</td>\n",
       "      <td>3579769</td>\n",
       "      <td>NaN</td>\n",
       "      <td>PARI</td>\n",
       "      <td>NaN</td>\n",
       "      <td>PARI</td>\n",
       "      <td>France</td>\n",
       "    </tr>\n",
       "  </tbody>\n",
       "</table>\n",
       "</div>"
      ],
      "text/plain": [
       "                      Name     Type  PlaceId IataCode SkyscannerCode CityName  \\\n",
       "0  Paris Charles de Gaulle  Station    44759      CDG            CDG    Paris   \n",
       "1          London Heathrow  Station    65698      LHR            LHR   London   \n",
       "2               Paris Orly  Station    73097      ORY            ORY    Paris   \n",
       "3                    Paris     City  3579769      NaN           PARI      NaN   \n",
       "\n",
       "  CityId     CountryName  \n",
       "0   PARI          France  \n",
       "1   LOND  United Kingdom  \n",
       "2   PARI          France  \n",
       "3   PARI          France  "
      ]
     },
     "execution_count": 117,
     "metadata": {},
     "output_type": "execute_result"
    }
   ],
   "source": [
    "places.head()"
   ]
  },
  {
   "cell_type": "code",
   "execution_count": 118,
   "metadata": {},
   "outputs": [
    {
     "data": {
      "text/html": [
       "<div>\n",
       "<style scoped>\n",
       "    .dataframe tbody tr th:only-of-type {\n",
       "        vertical-align: middle;\n",
       "    }\n",
       "\n",
       "    .dataframe tbody tr th {\n",
       "        vertical-align: top;\n",
       "    }\n",
       "\n",
       "    .dataframe thead th {\n",
       "        text-align: right;\n",
       "    }\n",
       "</style>\n",
       "<table border=\"1\" class=\"dataframe\">\n",
       "  <thead>\n",
       "    <tr style=\"text-align: right;\">\n",
       "      <th></th>\n",
       "      <th>Code</th>\n",
       "      <th>Symbol</th>\n",
       "      <th>ThousandsSeparator</th>\n",
       "      <th>DecimalSeparator</th>\n",
       "      <th>SymbolOnLeft</th>\n",
       "      <th>SpaceBetweenAmountAndSymbol</th>\n",
       "      <th>RoundingCoefficient</th>\n",
       "      <th>DecimalDigits</th>\n",
       "    </tr>\n",
       "  </thead>\n",
       "  <tbody>\n",
       "    <tr>\n",
       "      <th>0</th>\n",
       "      <td>USD</td>\n",
       "      <td>$</td>\n",
       "      <td>,</td>\n",
       "      <td>.</td>\n",
       "      <td>True</td>\n",
       "      <td>False</td>\n",
       "      <td>0</td>\n",
       "      <td>2</td>\n",
       "    </tr>\n",
       "  </tbody>\n",
       "</table>\n",
       "</div>"
      ],
      "text/plain": [
       "  Code Symbol ThousandsSeparator DecimalSeparator  SymbolOnLeft  \\\n",
       "0  USD      $                  ,                .          True   \n",
       "\n",
       "   SpaceBetweenAmountAndSymbol  RoundingCoefficient  DecimalDigits  \n",
       "0                        False                    0              2  "
      ]
     },
     "execution_count": 118,
     "metadata": {},
     "output_type": "execute_result"
    }
   ],
   "source": [
    "currencies.head()"
   ]
  },
  {
   "cell_type": "code",
   "execution_count": null,
   "metadata": {},
   "outputs": [],
   "source": []
  },
  {
   "cell_type": "code",
   "execution_count": null,
   "metadata": {},
   "outputs": [],
   "source": []
  },
  {
   "cell_type": "code",
   "execution_count": null,
   "metadata": {},
   "outputs": [],
   "source": []
  }
 ],
 "metadata": {
  "kernelspec": {
   "display_name": "Python 3",
   "language": "python",
   "name": "python3"
  },
  "language_info": {
   "codemirror_mode": {
    "name": "ipython",
    "version": 3
   },
   "file_extension": ".py",
   "mimetype": "text/x-python",
   "name": "python",
   "nbconvert_exporter": "python",
   "pygments_lexer": "ipython3",
   "version": "3.8.5"
  }
 },
 "nbformat": 4,
 "nbformat_minor": 4
}
